{
 "cells": [
  {
   "cell_type": "code",
   "execution_count": 1,
   "id": "0eaaef81-5322-4cca-93a3-1ee7a5e8072a",
   "metadata": {},
   "outputs": [],
   "source": [
    "from vcdvcd import VCDVCD\n",
    "import numpy as np\n",
    "from PIL import Image\n",
    "import matplotlib.pyplot as plt\n",
    "%matplotlib inline"
   ]
  },
  {
   "cell_type": "markdown",
   "id": "7270828f-2d6e-473a-ad69-189ca83a8199",
   "metadata": {},
   "source": [
    "The verilog used to generate this VCD file looks something like this:\n",
    "\n",
    "```verilog\n",
    "wire [7:0] dump = {\n",
    "    clock, reset, HSync, VSync, blank,\n",
    "    red[7], green[7], blue[7]\n",
    "};\n",
    "\n",
    "initial begin\n",
    "    $dumpvars(0, dump);\n",
    "    $dumpfile(\"renderer_tb.vcd\");\n",
    "    ...\n",
    "    repeat(900000) @(posedge clock);\n",
    "    ...\n",
    "    $finish\n",
    "end\n",
    "```\n",
    "\n",
    "VGA timings reference:\n",
    "- http://tinyvga.com/vga-timing/640x480@60Hz\n",
    "- https://projectf.io/posts/video-timings-vga-720p-1080p/"
   ]
  },
  {
   "cell_type": "code",
   "execution_count": null,
   "id": "21043a77-deb7-4982-be71-34360b4c8cf9",
   "metadata": {},
   "outputs": [],
   "source": []
  },
  {
   "cell_type": "code",
   "execution_count": 2,
   "id": "78116b8d-e74e-4fa0-ae01-7e4572b64ef2",
   "metadata": {},
   "outputs": [
    {
     "name": "stdout",
     "output_type": "stream",
     "text": [
      "['vga_tb.dump[7:0]']\n"
     ]
    }
   ],
   "source": [
    "# Load the file\n",
    "vcd1 = VCDVCD(\"vga_frame.vcd\")\n",
    "CLOCK_RATIO = 2\n",
    "print(vcd1.signals)"
   ]
  },
  {
   "cell_type": "code",
   "execution_count": 3,
   "id": "8df79317-0476-4764-9636-92a3a5014617",
   "metadata": {},
   "outputs": [
    {
     "data": {
      "text/plain": [
       "[(0, '01xxxxxx'),\n",
       " (5, '11xxxxxx'),\n",
       " (10, '01xxxxxx'),\n",
       " (15, '11xxxxxx'),\n",
       " (15, '11001xxx'),\n",
       " (15, '11001000'),\n",
       " (20, '01001000'),\n",
       " (25, '11001000'),\n",
       " (30, '00001000'),\n",
       " (35, '10001000')]"
      ]
     },
     "execution_count": 3,
     "metadata": {},
     "output_type": "execute_result"
    }
   ],
   "source": [
    "# Preview the data\n",
    "vcd1[\"vga_tb.dump[7:0]\"].tv[:10]"
   ]
  },
  {
   "cell_type": "code",
   "execution_count": 4,
   "id": "d27a2212-c732-4d6f-83a2-10b3e36f815b",
   "metadata": {},
   "outputs": [],
   "source": [
    "sig = []\n",
    "prev_ind = -1\n",
    "\n",
    "for ind, x in vcd1[\"vga_tb.dump[7:0]\"].tv:\n",
    "    # Remove indeterminate and reset states\n",
    "    if \"x\" in x or \"z\" in x or x[1] == \"1\":\n",
    "        continue\n",
    "        \n",
    "    # Take only rising-edge of clock\n",
    "    if x[0] != \"1\":\n",
    "        continue\n",
    "    \n",
    "    # Pull out the values we care about\n",
    "    parsed = (\n",
    "        int(x[2]),\n",
    "        int(x[3]),\n",
    "        int(x[4]),\n",
    "        int(x[5]),\n",
    "        int(x[6]),\n",
    "        int(x[7])\n",
    "    )\n",
    "    \n",
    "    # For timesteps where multiple transitions happen,\n",
    "    # take the last one\n",
    "    if ind == prev_ind:\n",
    "        sig[-1] = parsed\n",
    "    else:\n",
    "        sig.append(parsed)\n",
    "        prev_ind = ind\n"
   ]
  },
  {
   "cell_type": "code",
   "execution_count": 5,
   "id": "a3b37d19-2c83-45ee-953a-19c4ed1af3e3",
   "metadata": {},
   "outputs": [],
   "source": [
    "# Split up the \"rows\" in the stream, by looking at when HSync pin is set\n",
    "cur_row = []\n",
    "rows = []\n",
    "for hs, vs, blank, r, g, b in sig:\n",
    "    if not hs:\n",
    "        if len(cur_row):\n",
    "            rows.append(cur_row)\n",
    "            cur_row = []\n",
    "    else:\n",
    "        cur_row.append((vs, blank, r, g, b))\n",
    "    "
   ]
  },
  {
   "cell_type": "code",
   "execution_count": 6,
   "id": "9e68ffb0-4b8d-437b-b372-7cc6116d9591",
   "metadata": {},
   "outputs": [],
   "source": [
    "# Split up the \"frames\" amongst the rows by looking at the VSync pin\n",
    "init = True\n",
    "frames = []\n",
    "frame = None\n",
    "vsctr = 0\n",
    "for row in rows:\n",
    "    if not row[0][0]:\n",
    "        init = False\n",
    "        assert row[0][1]\n",
    "        if frame and len(frame):\n",
    "            frames.append(frame)\n",
    "        frame = None\n",
    "        assert vsctr < 2\n",
    "        vsctr += 1\n",
    "        if vsctr == 2:\n",
    "            frame = []\n",
    "    else:\n",
    "        vsctr = 0\n",
    "        assert frame is not None or init\n",
    "        if not init:\n",
    "            frame.append(row)"
   ]
  },
  {
   "cell_type": "code",
   "execution_count": null,
   "id": "51b6c720-1401-4794-b984-70d8b85657a2",
   "metadata": {},
   "outputs": [],
   "source": []
  },
  {
   "cell_type": "code",
   "execution_count": 7,
   "id": "433bb559-f051-4642-a32a-56141c35d641",
   "metadata": {},
   "outputs": [
    {
     "data": {
      "text/plain": [
       "<matplotlib.image.AxesImage at 0x15c5b6dd0>"
      ]
     },
     "execution_count": 7,
     "metadata": {},
     "output_type": "execute_result"
    },
    {
     "data": {
      "image/png": "[encoded data removed]",
      "text/plain": [
       "<Figure size 1000x1000 with 1 Axes>"
      ]
     },
     "metadata": {},
     "output_type": "display_data"
    }
   ],
   "source": [
    "frame = frames[0]\n",
    "\n",
    "# Front porch and back porch (blank rows in frame)\n",
    "bp = frame[0:29]\n",
    "rows = frame[29:509]\n",
    "fp = frame[509:519]\n",
    "\n",
    "# Image dims are fixed because of the specific VGA variant we are using\n",
    "img = np.zeros((480, 640, 3), dtype=np.uint8)\n",
    "\n",
    "# Go thru rows\n",
    "for i, row in enumerate(rows):\n",
    "    \n",
    "    # Front porch and back porch (blank cols in row)\n",
    "    row_bp = row[0:48*CLOCK_RATIO]\n",
    "    dat = row[48*CLOCK_RATIO:688*CLOCK_RATIO]\n",
    "    row_fp = row[688*CLOCK_RATIO:704*CLOCK_RATIO]\n",
    "\n",
    "    # Pull the columns, set the pixels in the image\n",
    "    for j, col in enumerate(dat):\n",
    "        vs, blank, r, g, b = col\n",
    "        \n",
    "        # Since the outputs are one-bit, we scale by 255\n",
    "        img[i, j // CLOCK_RATIO, :] = (r*255, g*255, b*255)\n",
    "\n",
    "plt.figure(figsize=(10, 10))\n",
    "plt.imshow(img)"
   ]
  },
  {
   "cell_type": "code",
   "execution_count": null,
   "id": "cf7472f1-f8cd-4c36-9e64-4765eaac62d0",
   "metadata": {},
   "outputs": [],
   "source": []
  }
 ],
 "metadata": {
  "kernelspec": {
   "display_name": "Python 3 (ipykernel)",
   "language": "python",
   "name": "python3"
  },
  "language_info": {
   "codemirror_mode": {
    "name": "ipython",
    "version": 3
   },
   "file_extension": ".py",
   "mimetype": "text/x-python",
   "name": "python",
   "nbconvert_exporter": "python",
   "pygments_lexer": "ipython3",
   "version": "3.10.4"
  }
 },
 "nbformat": 4,
 "nbformat_minor": 5
}
